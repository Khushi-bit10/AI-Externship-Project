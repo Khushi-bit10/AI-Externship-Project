{
  "nbformat": 4,
  "nbformat_minor": 0,
  "metadata": {
    "colab": {
      "provenance": []
    },
    "kernelspec": {
      "name": "python3",
      "display_name": "Python 3"
    },
    "language_info": {
      "name": "python"
    }
  },
  "cells": [
    {
      "cell_type": "code",
      "execution_count": 3,
      "metadata": {
        "colab": {
          "base_uri": "https://localhost:8080/"
        },
        "id": "hgyrqtOO5M4C",
        "outputId": "f53395ea-4d9c-4051-db06-955eae074d30"
      },
      "outputs": [
        {
          "output_type": "stream",
          "name": "stdout",
          "text": [
            "Looking in indexes: https://pypi.org/simple, https://us-python.pkg.dev/colab-wheels/public/simple/\n",
            "Requirement already satisfied: kaggle in /usr/local/lib/python3.10/dist-packages (1.5.13)\n",
            "Requirement already satisfied: six>=1.10 in /usr/local/lib/python3.10/dist-packages (from kaggle) (1.16.0)\n",
            "Requirement already satisfied: certifi in /usr/local/lib/python3.10/dist-packages (from kaggle) (2022.12.7)\n",
            "Requirement already satisfied: python-dateutil in /usr/local/lib/python3.10/dist-packages (from kaggle) (2.8.2)\n",
            "Requirement already satisfied: requests in /usr/local/lib/python3.10/dist-packages (from kaggle) (2.27.1)\n",
            "Requirement already satisfied: tqdm in /usr/local/lib/python3.10/dist-packages (from kaggle) (4.65.0)\n",
            "Requirement already satisfied: python-slugify in /usr/local/lib/python3.10/dist-packages (from kaggle) (8.0.1)\n",
            "Requirement already satisfied: urllib3 in /usr/local/lib/python3.10/dist-packages (from kaggle) (1.26.15)\n",
            "Requirement already satisfied: text-unidecode>=1.3 in /usr/local/lib/python3.10/dist-packages (from python-slugify->kaggle) (1.3)\n",
            "Requirement already satisfied: charset-normalizer~=2.0.0 in /usr/local/lib/python3.10/dist-packages (from requests->kaggle) (2.0.12)\n",
            "Requirement already satisfied: idna<4,>=2.5 in /usr/local/lib/python3.10/dist-packages (from requests->kaggle) (3.4)\n"
          ]
        }
      ],
      "source": [
        "# Download dataset\n",
        "\n",
        "! pip install kaggle"
      ]
    },
    {
      "cell_type": "code",
      "source": [
        "from google.colab import drive\n",
        "drive.mount('/content/drive')"
      ],
      "metadata": {
        "colab": {
          "base_uri": "https://localhost:8080/"
        },
        "id": "G1-5nIG05vyT",
        "outputId": "2c217c3b-66c0-4407-cfbb-88b760030f96"
      },
      "execution_count": 4,
      "outputs": [
        {
          "output_type": "stream",
          "name": "stdout",
          "text": [
            "Mounted at /content/drive\n"
          ]
        }
      ]
    },
    {
      "cell_type": "code",
      "source": [
        "! mkdir ~/.kaggle"
      ],
      "metadata": {
        "id": "FLbDsfBj6Obv"
      },
      "execution_count": 5,
      "outputs": []
    },
    {
      "cell_type": "code",
      "source": [
        "!cp /content/drive/MyDrive/ColabNotebooks/kaggle.json ~/.kaggle/kaggle.json"
      ],
      "metadata": {
        "id": "BIoGK8hN6UEZ"
      },
      "execution_count": 6,
      "outputs": []
    },
    {
      "cell_type": "code",
      "source": [
        "! chmod 600 ~/.kaggle/kaggle.json"
      ],
      "metadata": {
        "id": "aPzrC78j6U6C"
      },
      "execution_count": 7,
      "outputs": []
    },
    {
      "cell_type": "code",
      "source": [
        "! kaggle datasets download akash2907/bird-species-classification"
      ],
      "metadata": {
        "colab": {
          "base_uri": "https://localhost:8080/"
        },
        "id": "uK7e410Y6WxI",
        "outputId": "a40b03ad-7e01-41f6-a2cd-29a738f95aa3"
      },
      "execution_count": 8,
      "outputs": [
        {
          "output_type": "stream",
          "name": "stdout",
          "text": [
            "Downloading bird-species-classification.zip to /content\n",
            "100% 1.37G/1.37G [00:17<00:00, 93.6MB/s]\n",
            "100% 1.37G/1.37G [00:17<00:00, 84.4MB/s]\n"
          ]
        }
      ]
    },
    {
      "cell_type": "code",
      "source": [
        "!unzip '/content/bird-species-classification.zip'"
      ],
      "metadata": {
        "colab": {
          "base_uri": "https://localhost:8080/"
        },
        "id": "A1BOkHFt6Y_j",
        "outputId": "34d72c7f-deee-4ab2-9596-aaefb8775ac6"
      },
      "execution_count": 9,
      "outputs": [
        {
          "output_type": "stream",
          "name": "stdout",
          "text": [
            "Archive:  /content/bird-species-classification.zip\n",
            "  inflating: test_data/test_data/blasti/DSC_6396.jpg  \n",
            "  inflating: test_data/test_data/blasti/DSC_6397.jpg  \n",
            "  inflating: test_data/test_data/blasti/DSC_6398.jpg  \n",
            "  inflating: test_data/test_data/blasti/DSC_6399.jpg  \n",
            "  inflating: test_data/test_data/blasti/DSC_6400.jpg  \n",
            "  inflating: test_data/test_data/blasti/DSC_6401.jpg  \n",
            "  inflating: test_data/test_data/blasti/DSC_6402.jpg  \n",
            "  inflating: test_data/test_data/blasti/DSC_6403.jpg  \n",
            "  inflating: test_data/test_data/blasti/DSC_6405.jpg  \n",
            "  inflating: test_data/test_data/blasti/DSC_6406.jpg  \n",
            "  inflating: test_data/test_data/blasti/DSC_6407.jpg  \n",
            "  inflating: test_data/test_data/blasti/DSC_6408.jpg  \n",
            "  inflating: test_data/test_data/blasti/DSC_6409.jpg  \n",
            "  inflating: test_data/test_data/blasti/DSC_6410.jpg  \n",
            "  inflating: test_data/test_data/blasti/DSC_6411.jpg  \n",
            "  inflating: test_data/test_data/bonegl/DSC_4587.jpg  \n",
            "  inflating: test_data/test_data/bonegl/DSC_4588.jpg  \n",
            "  inflating: test_data/test_data/bonegl/DSC_4589.jpg  \n",
            "  inflating: test_data/test_data/bonegl/DSC_4590.jpg  \n",
            "  inflating: test_data/test_data/bonegl/DSC_4591.jpg  \n",
            "  inflating: test_data/test_data/bonegl/DSC_4592.jpg  \n",
            "  inflating: test_data/test_data/bonegl/DSC_4593.jpg  \n",
            "  inflating: test_data/test_data/brhkyt/D72_0473.jpg  \n",
            "  inflating: test_data/test_data/brhkyt/D72_0474.jpg  \n",
            "  inflating: test_data/test_data/brhkyt/D72_0475.jpg  \n",
            "  inflating: test_data/test_data/brhkyt/D72_0477.jpg  \n",
            "  inflating: test_data/test_data/brhkyt/D72_0478.jpg  \n",
            "  inflating: test_data/test_data/brhkyt/D72_0479.jpg  \n",
            "  inflating: test_data/test_data/cbrtsh/_D32_10310.jpg  \n",
            "  inflating: test_data/test_data/cbrtsh/_D32_10311.jpg  \n",
            "  inflating: test_data/test_data/cbrtsh/_D32_10312.jpg  \n",
            "  inflating: test_data/test_data/cbrtsh/_D32_10313.jpg  \n",
            "  inflating: test_data/test_data/cbrtsh/_D32_10314.jpg  \n",
            "  inflating: test_data/test_data/cbrtsh/_D32_10317.jpg  \n",
            "  inflating: test_data/test_data/cbrtsh/_D32_10318.jpg  \n",
            "  inflating: test_data/test_data/cmnmyn/DSC_2443.jpg  \n",
            "  inflating: test_data/test_data/cmnmyn/DSC_4681.jpg  \n",
            "  inflating: test_data/test_data/cmnmyn/DSC_5137.jpg  \n",
            "  inflating: test_data/test_data/cmnmyn/DSC_7625.jpg  \n",
            "  inflating: test_data/test_data/cmnmyn/P1050277.jpg  \n",
            "  inflating: test_data/test_data/cmnmyn/_D32_12426.jpg  \n",
            "  inflating: test_data/test_data/cmnmyn/_D32_12427.jpg  \n",
            "  inflating: test_data/test_data/cmnmyn/_D32_12428.jpg  \n",
            "  inflating: test_data/test_data/gretit/11620454726_31a35c26da_o.jpg  \n",
            "  inflating: test_data/test_data/gretit/11776135285_ccf938fa2e_o.jpg  \n",
            "  inflating: test_data/test_data/gretit/11905645146_6a5d4ff9f9_o.jpg  \n",
            "  inflating: test_data/test_data/gretit/8537646712_0b282c4c6a_o.jpg  \n",
            "  inflating: test_data/test_data/gretit/D72_0693.jpg  \n",
            "  inflating: test_data/test_data/gretit/D72_0694.jpg  \n",
            "  inflating: test_data/test_data/gretit/D72_0695.jpg  \n",
            "  inflating: test_data/test_data/hilpig/DSC_6359.jpg  \n",
            "  inflating: test_data/test_data/hilpig/DSC_6362.jpg  \n",
            "  inflating: test_data/test_data/hilpig/DSC_6364.jpg  \n",
            "  inflating: test_data/test_data/hilpig/DSC_6368.jpg  \n",
            "  inflating: test_data/test_data/hilpig/DSC_6403.jpg  \n",
            "  inflating: test_data/test_data/hilpig/DSC_6404.jpg  \n",
            "  inflating: test_data/test_data/hilpig/P1000319.jpg  \n",
            "  inflating: test_data/test_data/hilpig/P1000323.jpg  \n",
            "  inflating: test_data/test_data/hilpig/P1050044.jpg  \n",
            "  inflating: test_data/test_data/hilpig/P1050045.jpg  \n",
            "  inflating: test_data/test_data/himbul/11602064885_3826df4500_o.jpg  \n",
            "  inflating: test_data/test_data/himbul/11619942574_42f23a7b05_o.jpg  \n",
            "  inflating: test_data/test_data/himbul/11620097904_33fa8ee878_o.jpg  \n",
            "  inflating: test_data/test_data/himbul/5857371972_ed4f88b275_o.jpg  \n",
            "  inflating: test_data/test_data/himbul/6154954471_eefe6e00d1_o.jpg  \n",
            "  inflating: test_data/test_data/himbul/D72_0688.jpg  \n",
            "  inflating: test_data/test_data/himbul/D72_0691.jpg  \n",
            "  inflating: test_data/test_data/himbul/DSC08357.jpg  \n",
            "  inflating: test_data/test_data/himbul/DSC_3230.jpg  \n",
            "  inflating: test_data/test_data/himbul/DSC_7439.jpg  \n",
            "  inflating: test_data/test_data/himbul/DSC_7602.jpg  \n",
            "  inflating: test_data/test_data/himbul/P1060368.jpg  \n",
            "  inflating: test_data/test_data/himbul/P1060369.jpg  \n",
            "  inflating: test_data/test_data/himbul/_D32_10242.jpg  \n",
            "  inflating: test_data/test_data/himbul/_D32_10245.jpg  \n",
            "  inflating: test_data/test_data/himbul/_D32_10251.jpg  \n",
            "  inflating: test_data/test_data/himbul/_D32_10319.jpg  \n",
            "  inflating: test_data/test_data/himbul/_D32_10320.jpg  \n",
            "  inflating: test_data/test_data/himbul/_DSC9446.jpg  \n",
            "  inflating: test_data/test_data/himgri/IMG_5384.JPG  \n",
            "  inflating: test_data/test_data/himgri/IMG_5385.JPG  \n",
            "  inflating: test_data/test_data/himgri/IMG_5386.JPG  \n",
            "  inflating: test_data/test_data/himgri/IMG_5387.JPG  \n",
            "  inflating: test_data/test_data/himgri/IMG_5459.JPG  \n",
            "  inflating: test_data/test_data/himgri/IMG_5460.JPG  \n",
            "  inflating: test_data/test_data/himgri/IMG_5487.JPG  \n",
            "  inflating: test_data/test_data/himgri/IMG_5488.JPG  \n",
            "  inflating: test_data/test_data/himgri/IMG_5489.JPG  \n",
            "  inflating: test_data/test_data/himgri/IMG_5490.JPG  \n",
            "  inflating: test_data/test_data/himgri/IMG_5491.JPG  \n",
            "  inflating: test_data/test_data/himgri/IMG_5492.JPG  \n",
            "  inflating: test_data/test_data/himgri/P1020742.jpg  \n",
            "  inflating: test_data/test_data/himgri/P1020743.jpg  \n",
            "  inflating: test_data/test_data/himgri/P1020746.jpg  \n",
            "  inflating: test_data/test_data/himgri/P1020748.jpg  \n",
            "  inflating: test_data/test_data/himgri/P1030055.jpg  \n",
            "  inflating: test_data/test_data/himgri/P1060776.jpg  \n",
            "  inflating: test_data/test_data/himgri/P1060777.jpg  \n",
            "  inflating: test_data/test_data/himgri/P1060778.jpg  \n",
            "  inflating: test_data/test_data/hsparo/100_5573.JPG  \n",
            "  inflating: test_data/test_data/hsparo/100_5585.JPG  \n",
            "  inflating: test_data/test_data/hsparo/100_5586.JPG  \n",
            "  inflating: test_data/test_data/hsparo/100_5742.JPG  \n",
            "  inflating: test_data/test_data/hsparo/12265273154_48e0fefd42_o.jpg  \n",
            "  inflating: test_data/test_data/hsparo/DSC_4521.jpg  \n",
            "  inflating: test_data/test_data/hsparo/DSC_7619.jpg  \n",
            "  inflating: test_data/test_data/hsparo/_DSC_11244.jpg  \n",
            "  inflating: test_data/test_data/hsparo/_DSC_11246.jpg  \n",
            "  inflating: test_data/test_data/indvul/DSC_1263.jpg  \n",
            "  inflating: test_data/test_data/indvul/DSC_1273.jpg  \n",
            "  inflating: test_data/test_data/indvul/DSC_1274.jpg  \n",
            "  inflating: test_data/test_data/indvul/DSC_1275.jpg  \n",
            "  inflating: test_data/test_data/indvul/DSC_1277.jpg  \n",
            "  inflating: test_data/test_data/indvul/_DSC8754.jpg  \n",
            "  inflating: test_data/test_data/indvul/_DSC9520.jpg  \n",
            "  inflating: test_data/test_data/indvul/_DSC9521.jpg  \n",
            "  inflating: test_data/test_data/indvul/_DSC9523.jpg  \n",
            "  inflating: test_data/test_data/jglowl/_D32_10584.jpg  \n",
            "  inflating: test_data/test_data/jglowl/_D32_10587.jpg  \n",
            "  inflating: test_data/test_data/jglowl/_D32_10593.jpg  \n",
            "  inflating: test_data/test_data/jglowl/_D32_13515.jpg  \n",
            "  inflating: test_data/test_data/jglowl/_D32_13516.jpg  \n",
            "  inflating: test_data/test_data/jglowl/_D32_13517.jpg  \n",
            "  inflating: test_data/test_data/lbicrw/100_4917.JPG  \n",
            "  inflating: test_data/test_data/lbicrw/IMG_5538.JPG  \n",
            "  inflating: test_data/test_data/lbicrw/IMG_5541.JPG  \n",
            "  inflating: test_data/test_data/lbicrw/IMG_5543.JPG  \n",
            "  inflating: test_data/test_data/lbicrw/IMG_5544.JPG  \n",
            "  inflating: test_data/test_data/lbicrw/P1030030.jpg  \n",
            "  inflating: test_data/test_data/mgprob/100_5811.JPG  \n",
            "  inflating: test_data/test_data/mgprob/100_5812.JPG  \n",
            "  inflating: test_data/test_data/mgprob/100_5813.JPG  \n",
            "  inflating: test_data/test_data/mgprob/DSC_3233.jpg  \n",
            "  inflating: test_data/test_data/mgprob/_DSC0085.jpg  \n",
            "  inflating: test_data/test_data/mgprob/_DSC0133.jpg  \n",
            "  inflating: test_data/test_data/mgprob/_DSC0135.jpg  \n",
            "  inflating: test_data/test_data/rebimg/100_5756.JPG  \n",
            "  inflating: test_data/test_data/rebimg/100_5757.JPG  \n",
            "  inflating: test_data/test_data/rebimg/100_5758.JPG  \n",
            "  inflating: test_data/test_data/rebimg/100_5759.JPG  \n",
            "  inflating: test_data/test_data/rebimg/100_5760.JPG  \n",
            "  inflating: test_data/test_data/rebimg/13009302395_5d88a9d62b_o.jpg  \n",
            "  inflating: test_data/test_data/rebimg/13009315305_f1cbfb6767_o.jpg  \n",
            "  inflating: test_data/test_data/rebimg/13009451823_8eb502581f_o.jpg  \n",
            "  inflating: test_data/test_data/rebimg/DSC_7148.jpg  \n",
            "  inflating: test_data/test_data/rebimg/IMG_5251.JPG  \n",
            "  inflating: test_data/test_data/rebimg/IMG_5252.JPG  \n",
            "  inflating: test_data/test_data/wcrsrt/100_4462.JPG  \n",
            "  inflating: test_data/test_data/wcrsrt/100_4463.JPG  \n",
            "  inflating: test_data/test_data/wcrsrt/100_4464.JPG  \n",
            "  inflating: test_data/test_data/wcrsrt/100_4466.JPG  \n",
            "  inflating: test_data/test_data/wcrsrt/100_4467.JPG  \n",
            "  inflating: test_data/test_data/wcrsrt/100_4468.JPG  \n",
            "  inflating: test_data/test_data/wcrsrt/100_5103.JPG  \n",
            "  inflating: test_data/test_data/wcrsrt/100_5105.JPG  \n",
            "  inflating: test_data/test_data/wcrsrt/11382677585_ef6570a041_o.jpg  \n",
            "  inflating: test_data/test_data/wcrsrt/11382746854_7ce73793b3_o.jpg  \n",
            "  inflating: train_data/train_data/blasti/DSC_6382.jpg  \n",
            "  inflating: train_data/train_data/blasti/DSC_6383.jpg  \n",
            "  inflating: train_data/train_data/blasti/DSC_6384-2.jpg  \n",
            "  inflating: train_data/train_data/blasti/DSC_6384.jpg  \n",
            "  inflating: train_data/train_data/blasti/DSC_6385.jpg  \n",
            "  inflating: train_data/train_data/blasti/DSC_6386.jpg  \n",
            "  inflating: train_data/train_data/blasti/DSC_6387.jpg  \n",
            "  inflating: train_data/train_data/blasti/DSC_6388.jpg  \n",
            "  inflating: train_data/train_data/blasti/DSC_6389.jpg  \n",
            "  inflating: train_data/train_data/blasti/DSC_6390.jpg  \n",
            "  inflating: train_data/train_data/blasti/DSC_6391.jpg  \n",
            "  inflating: train_data/train_data/blasti/DSC_6392.jpg  \n",
            "  inflating: train_data/train_data/blasti/DSC_6393.jpg  \n",
            "  inflating: train_data/train_data/blasti/DSC_6394.jpg  \n",
            "  inflating: train_data/train_data/blasti/DSC_6395.jpg  \n",
            "  inflating: train_data/train_data/bonegl/DSC_4570.jpg  \n",
            "  inflating: train_data/train_data/bonegl/DSC_4571.jpg  \n",
            "  inflating: train_data/train_data/bonegl/DSC_4583.jpg  \n",
            "  inflating: train_data/train_data/bonegl/DSC_4584.jpg  \n",
            "  inflating: train_data/train_data/bonegl/DSC_4585.jpg  \n",
            "  inflating: train_data/train_data/bonegl/DSC_4586.jpg  \n",
            "  inflating: train_data/train_data/brhkyt/D72_0400.jpg  \n",
            "  inflating: train_data/train_data/brhkyt/D72_0401.jpg  \n",
            "  inflating: train_data/train_data/brhkyt/D72_0470.jpg  \n",
            "  inflating: train_data/train_data/brhkyt/D72_0471.jpg  \n",
            "  inflating: train_data/train_data/brhkyt/D72_0472.jpg  \n",
            "  inflating: train_data/train_data/cbrtsh/100_5097.JPG  \n",
            "  inflating: train_data/train_data/cbrtsh/_D32_10303.jpg  \n",
            "  inflating: train_data/train_data/cbrtsh/_D32_10305.jpg  \n",
            "  inflating: train_data/train_data/cbrtsh/_D32_10306.jpg  \n",
            "  inflating: train_data/train_data/cbrtsh/_D32_10307.jpg  \n",
            "  inflating: train_data/train_data/cbrtsh/_D32_10308.jpg  \n",
            "  inflating: train_data/train_data/cbrtsh/_D32_10309.jpg  \n",
            "  inflating: train_data/train_data/cmnmyn/100_5763.JPG  \n",
            "  inflating: train_data/train_data/cmnmyn/5866682091_870ccc946c_o.jpg  \n",
            "  inflating: train_data/train_data/cmnmyn/6154956165_64266b8b53_o.jpg  \n",
            "  inflating: train_data/train_data/cmnmyn/DSCN5784.jpg  \n",
            "  inflating: train_data/train_data/cmnmyn/DSCN5787.jpg  \n",
            "  inflating: train_data/train_data/cmnmyn/DSCN5790.jpg  \n",
            "  inflating: train_data/train_data/cmnmyn/DSCN5791.jpg  \n",
            "  inflating: train_data/train_data/gretit/100_5042.JPG  \n",
            "  inflating: train_data/train_data/gretit/100_5043.JPG  \n",
            "  inflating: train_data/train_data/gretit/100_5044.JPG  \n",
            "  inflating: train_data/train_data/gretit/100_5045.JPG  \n",
            "  inflating: train_data/train_data/gretit/100_5046.JPG  \n",
            "  inflating: train_data/train_data/gretit/100_5047.JPG  \n",
            "  inflating: train_data/train_data/hilpig/DSC_6272.jpg  \n",
            "  inflating: train_data/train_data/hilpig/DSC_6273.jpg  \n",
            "  inflating: train_data/train_data/hilpig/DSC_6274.jpg  \n",
            "  inflating: train_data/train_data/hilpig/DSC_6275.jpg  \n",
            "  inflating: train_data/train_data/hilpig/DSC_6350.jpg  \n",
            "  inflating: train_data/train_data/hilpig/DSC_6351.jpg  \n",
            "  inflating: train_data/train_data/hilpig/DSC_6352.jpg  \n",
            "  inflating: train_data/train_data/hilpig/DSC_6353.jpg  \n",
            "  inflating: train_data/train_data/hilpig/DSC_6354.jpg  \n",
            "  inflating: train_data/train_data/hilpig/DSC_6358.jpg  \n",
            "  inflating: train_data/train_data/himbul/100_5028.JPG  \n",
            "  inflating: train_data/train_data/himbul/100_5029.JPG  \n",
            "  inflating: train_data/train_data/himbul/100_5096.JPG  \n",
            "  inflating: train_data/train_data/himbul/100_5099.JPG  \n",
            "  inflating: train_data/train_data/himbul/100_5100.JPG  \n",
            "  inflating: train_data/train_data/himbul/100_5102.JPG  \n",
            "  inflating: train_data/train_data/himbul/100_5110.JPG  \n",
            "  inflating: train_data/train_data/himbul/100_5112.JPG  \n",
            "  inflating: train_data/train_data/himbul/100_5113.JPG  \n",
            "  inflating: train_data/train_data/himbul/100_5159.JPG  \n",
            "  inflating: train_data/train_data/himbul/100_5160.JPG  \n",
            "  inflating: train_data/train_data/himbul/100_5161.JPG  \n",
            "  inflating: train_data/train_data/himbul/100_5162.JPG  \n",
            "  inflating: train_data/train_data/himbul/10774570945_9bc537c255_o.jpg  \n",
            "  inflating: train_data/train_data/himbul/11383838134_96e891a316_o.jpg  \n",
            "  inflating: train_data/train_data/himbul/11383857084_cdd7514746_o.jpg  \n",
            "  inflating: train_data/train_data/himbul/11387473723_464965720a_o.jpg  \n",
            "  inflating: train_data/train_data/himbul/9007817678_24db19fc63_o.jpg  \n",
            "  inflating: train_data/train_data/himgri/12029790563_2fe54a68aa_o.jpg  \n",
            "  inflating: train_data/train_data/himgri/12029822653_1185544e7b_o.jpg  \n",
            "  inflating: train_data/train_data/himgri/12029933015_802428e277_o.jpg  \n",
            "  inflating: train_data/train_data/himgri/12029987304_031b7a2d53_o.jpg  \n",
            "  inflating: train_data/train_data/himgri/12030165813_f5341e8ed0_o.jpg  \n",
            "  inflating: train_data/train_data/himgri/12030221124_1baaf905d1_o.jpg  \n",
            "  inflating: train_data/train_data/himgri/12030269234_1c3f5a8e8c_o.jpg  \n",
            "  inflating: train_data/train_data/himgri/12152037683_13e1556c41_o.jpg  \n",
            "  inflating: train_data/train_data/himgri/12152178844_dc29e3126f_o.jpg  \n",
            "  inflating: train_data/train_data/himgri/12152510436_23b62fed3b_o.jpg  \n",
            "  inflating: train_data/train_data/himgri/12265055185_138e3c7c70_o.jpg  \n",
            "  inflating: train_data/train_data/himgri/12265498144_d2e80faa3b_o.jpg  \n",
            "  inflating: train_data/train_data/himgri/12265561764_4814951031_o.jpg  \n",
            "  inflating: train_data/train_data/himgri/12265582724_61cb64e73a_o.jpg  \n",
            "  inflating: train_data/train_data/himgri/12265738206_2b9b25cc8a_o.jpg  \n",
            "  inflating: train_data/train_data/himgri/12265747116_d4b4fa3741_o.jpg  \n",
            "  inflating: train_data/train_data/himgri/12266053036_fcab92d8e8_o.jpg  \n",
            "  inflating: train_data/train_data/himgri/12266077576_1d7143aaf7_o.jpg  \n",
            "  inflating: train_data/train_data/himgri/12266086526_82cd337667_o.jpg  \n",
            "  inflating: train_data/train_data/himgri/IMG_5463.JPG  \n",
            "  inflating: train_data/train_data/hsparo/100_4757.JPG  \n",
            "  inflating: train_data/train_data/hsparo/100_4758.JPG  \n",
            "  inflating: train_data/train_data/hsparo/100_5039.JPG  \n",
            "  inflating: train_data/train_data/hsparo/100_5040.JPG  \n",
            "  inflating: train_data/train_data/hsparo/100_5041.JPG  \n",
            "  inflating: train_data/train_data/hsparo/100_5048.JPG  \n",
            "  inflating: train_data/train_data/hsparo/100_5049.JPG  \n",
            "  inflating: train_data/train_data/hsparo/100_5050.JPG  \n",
            "  inflating: train_data/train_data/hsparo/100_5572.JPG  \n",
            "  inflating: train_data/train_data/indvul/DSC_0502.jpg  \n",
            "  inflating: train_data/train_data/indvul/DSC_0571e.jpg  \n",
            "  inflating: train_data/train_data/indvul/DSC_0572.jpg  \n",
            "  inflating: train_data/train_data/indvul/DSC_0576e.jpg  \n",
            "  inflating: train_data/train_data/indvul/DSC_0582.jpg  \n",
            "  inflating: train_data/train_data/indvul/DSC_0583e.jpg  \n",
            "  inflating: train_data/train_data/indvul/DSC_0584.jpg  \n",
            "  inflating: train_data/train_data/indvul/DSC_0616c.jpg  \n",
            "  inflating: train_data/train_data/indvul/DSC_0617.jpg  \n",
            "  inflating: train_data/train_data/jglowl/12152151476_7a1524aabb_o.jpg  \n",
            "  inflating: train_data/train_data/jglowl/DSC01335.jpg  \n",
            "  inflating: train_data/train_data/jglowl/DSC01336.jpg  \n",
            "  inflating: train_data/train_data/jglowl/_D32_10285.jpg  \n",
            "  inflating: train_data/train_data/jglowl/_D32_10578.jpg  \n",
            "  inflating: train_data/train_data/jglowl/_D32_10583.jpg  \n",
            "  inflating: train_data/train_data/lbicrw/100_4037.JPG  \n",
            "  inflating: train_data/train_data/lbicrw/100_4912.JPG  \n",
            "  inflating: train_data/train_data/lbicrw/100_4913.JPG  \n",
            "  inflating: train_data/train_data/lbicrw/100_4914.JPG  \n",
            "  inflating: train_data/train_data/lbicrw/100_4915.JPG  \n",
            "  inflating: train_data/train_data/lbicrw/100_4916.JPG  \n",
            "  inflating: train_data/train_data/mgprob/100_5587.JPG  \n",
            "  inflating: train_data/train_data/mgprob/100_5588.JPG  \n",
            "  inflating: train_data/train_data/mgprob/100_5589.JPG  \n",
            "  inflating: train_data/train_data/mgprob/100_5590.JPG  \n",
            "  inflating: train_data/train_data/mgprob/100_5592.JPG  \n",
            "  inflating: train_data/train_data/mgprob/100_5762.JPG  \n",
            "  inflating: train_data/train_data/rebimg/100_5744.JPG  \n",
            "  inflating: train_data/train_data/rebimg/100_5745.JPG  \n",
            "  inflating: train_data/train_data/rebimg/100_5746.JPG  \n",
            "  inflating: train_data/train_data/rebimg/100_5748.JPG  \n",
            "  inflating: train_data/train_data/rebimg/100_5749.JPG  \n",
            "  inflating: train_data/train_data/rebimg/100_5750.JPG  \n",
            "  inflating: train_data/train_data/rebimg/100_5751.JPG  \n",
            "  inflating: train_data/train_data/rebimg/100_5752.JPG  \n",
            "  inflating: train_data/train_data/rebimg/100_5754.JPG  \n",
            "  inflating: train_data/train_data/rebimg/100_5755.JPG  \n",
            "  inflating: train_data/train_data/wcrsrt/100_4452.JPG  \n",
            "  inflating: train_data/train_data/wcrsrt/100_4453.JPG  \n",
            "  inflating: train_data/train_data/wcrsrt/100_4454.JPG  \n",
            "  inflating: train_data/train_data/wcrsrt/100_4455.JPG  \n",
            "  inflating: train_data/train_data/wcrsrt/100_4456.JPG  \n",
            "  inflating: train_data/train_data/wcrsrt/100_4457.JPG  \n",
            "  inflating: train_data/train_data/wcrsrt/100_4458.JPG  \n",
            "  inflating: train_data/train_data/wcrsrt/100_4459.JPG  \n",
            "  inflating: train_data/train_data/wcrsrt/100_4460.JPG  \n",
            "  inflating: train_data/train_data/wcrsrt/100_4461.JPG  \n"
          ]
        }
      ]
    },
    {
      "cell_type": "code",
      "source": [
        "from tensorflow.keras.preprocessing.image import ImageDataGenerator\n",
        "\n",
        "train_gen=ImageDataGenerator(rescale=(1./255), horizontal_flip=True, shear_range=0.2)\n",
        "test_gen=ImageDataGenerator(rescale=(1./255))"
      ],
      "metadata": {
        "id": "PmdamjxZ6iba"
      },
      "execution_count": 10,
      "outputs": []
    },
    {
      "cell_type": "code",
      "source": [
        "train=train_gen.flow_from_directory('/content/train_data/train_data', target_size=(120, 120), class_mode='categorical', batch_size=8) \n",
        "test=test_gen.flow_from_directory('/content/test_data/test_data', target_size=(120, 120), class_mode='categorical', batch_size=8)"
      ],
      "metadata": {
        "colab": {
          "base_uri": "https://localhost:8080/"
        },
        "id": "EOOlKOpM-VSH",
        "outputId": "a444fcac-c2c7-4a29-bb77-8f2677f27507"
      },
      "execution_count": 11,
      "outputs": [
        {
          "output_type": "stream",
          "name": "stdout",
          "text": [
            "Found 150 images belonging to 16 classes.\n",
            "Found 157 images belonging to 16 classes.\n"
          ]
        }
      ]
    },
    {
      "cell_type": "code",
      "source": [
        "train.class_indices"
      ],
      "metadata": {
        "colab": {
          "base_uri": "https://localhost:8080/"
        },
        "id": "t9ocWVHC-aIz",
        "outputId": "3ce539fb-bea2-4bf7-bf5d-137afa627eb1"
      },
      "execution_count": 12,
      "outputs": [
        {
          "output_type": "execute_result",
          "data": {
            "text/plain": [
              "{'blasti': 0,\n",
              " 'bonegl': 1,\n",
              " 'brhkyt': 2,\n",
              " 'cbrtsh': 3,\n",
              " 'cmnmyn': 4,\n",
              " 'gretit': 5,\n",
              " 'hilpig': 6,\n",
              " 'himbul': 7,\n",
              " 'himgri': 8,\n",
              " 'hsparo': 9,\n",
              " 'indvul': 10,\n",
              " 'jglowl': 11,\n",
              " 'lbicrw': 12,\n",
              " 'mgprob': 13,\n",
              " 'rebimg': 14,\n",
              " 'wcrsrt': 15}"
            ]
          },
          "metadata": {},
          "execution_count": 12
        }
      ]
    },
    {
      "cell_type": "code",
      "source": [
        "from tensorflow.keras.layers import Convolution2D, MaxPooling2D, Flatten, Dense \n",
        "from tensorflow.keras.models import Sequential"
      ],
      "metadata": {
        "id": "3EpfMzxe-b64"
      },
      "execution_count": 13,
      "outputs": []
    },
    {
      "cell_type": "code",
      "source": [
        "model=Sequential()\n",
        "\n",
        "model.add(Convolution2D(20, (3, 3), activation='relu', input_shape=(120, 120, 3))) \n",
        "\n",
        "model.add(MaxPooling2D(pool_size=(2, 2))) \n",
        "\n",
        "model.add(Flatten())\n",
        "\n",
        "model.add(Dense(45, activation='relu')) \n",
        "model.add(Dense(16, activation='softmax'))"
      ],
      "metadata": {
        "id": "ogw1PdqX-fW6"
      },
      "execution_count": 14,
      "outputs": []
    },
    {
      "cell_type": "code",
      "source": [
        "model.compile(optimizer='adam', loss='categorical_crossentropy', metrics=['accuracy'])"
      ],
      "metadata": {
        "id": "06Qx899K-mjl"
      },
      "execution_count": 15,
      "outputs": []
    },
    {
      "cell_type": "code",
      "source": [
        "model.fit(train, batch_size=8, validation_data=test, epochs=30)"
      ],
      "metadata": {
        "colab": {
          "base_uri": "https://localhost:8080/"
        },
        "id": "UFUHHndD-p54",
        "outputId": "fd9b1aac-707e-4f9f-c271-cce4c78046ca"
      },
      "execution_count": 16,
      "outputs": [
        {
          "output_type": "stream",
          "name": "stdout",
          "text": [
            "Epoch 1/30\n",
            "19/19 [==============================] - 137s 7s/step - loss: 4.4709 - accuracy: 0.0667 - val_loss: 2.7498 - val_accuracy: 0.0828\n",
            "Epoch 2/30\n",
            "19/19 [==============================] - 130s 7s/step - loss: 2.7034 - accuracy: 0.0867 - val_loss: 2.7569 - val_accuracy: 0.0828\n",
            "Epoch 3/30\n",
            "19/19 [==============================] - 128s 7s/step - loss: 2.6457 - accuracy: 0.0800 - val_loss: 2.7486 - val_accuracy: 0.1019\n",
            "Epoch 4/30\n",
            "19/19 [==============================] - 129s 7s/step - loss: 2.5817 - accuracy: 0.0800 - val_loss: 2.7807 - val_accuracy: 0.0892\n",
            "Epoch 5/30\n",
            "19/19 [==============================] - 129s 7s/step - loss: 2.5637 - accuracy: 0.1200 - val_loss: 2.7647 - val_accuracy: 0.1465\n",
            "Epoch 6/30\n",
            "19/19 [==============================] - 129s 7s/step - loss: 2.5562 - accuracy: 0.1267 - val_loss: 2.7639 - val_accuracy: 0.0892\n",
            "Epoch 7/30\n",
            "19/19 [==============================] - 128s 7s/step - loss: 2.5210 - accuracy: 0.1333 - val_loss: 2.7514 - val_accuracy: 0.1019\n",
            "Epoch 8/30\n",
            "19/19 [==============================] - 106s 6s/step - loss: 2.4973 - accuracy: 0.1267 - val_loss: 2.7827 - val_accuracy: 0.1783\n",
            "Epoch 9/30\n",
            "19/19 [==============================] - 128s 7s/step - loss: 2.4526 - accuracy: 0.1933 - val_loss: 2.7673 - val_accuracy: 0.1656\n",
            "Epoch 10/30\n",
            "19/19 [==============================] - 119s 7s/step - loss: 2.4258 - accuracy: 0.2133 - val_loss: 2.7804 - val_accuracy: 0.1656\n",
            "Epoch 11/30\n",
            "19/19 [==============================] - 128s 7s/step - loss: 2.3926 - accuracy: 0.2000 - val_loss: 2.7843 - val_accuracy: 0.1911\n",
            "Epoch 12/30\n",
            "19/19 [==============================] - 106s 6s/step - loss: 2.3765 - accuracy: 0.2200 - val_loss: 2.7811 - val_accuracy: 0.1975\n",
            "Epoch 13/30\n",
            "19/19 [==============================] - 129s 7s/step - loss: 2.3831 - accuracy: 0.2333 - val_loss: 2.8659 - val_accuracy: 0.1465\n",
            "Epoch 14/30\n",
            "19/19 [==============================] - 108s 6s/step - loss: 2.4819 - accuracy: 0.2000 - val_loss: 2.8855 - val_accuracy: 0.1465\n",
            "Epoch 15/30\n",
            "19/19 [==============================] - 140s 8s/step - loss: 2.4209 - accuracy: 0.1867 - val_loss: 2.7841 - val_accuracy: 0.1911\n",
            "Epoch 16/30\n",
            "19/19 [==============================] - 129s 7s/step - loss: 2.3877 - accuracy: 0.2267 - val_loss: 2.7814 - val_accuracy: 0.1338\n",
            "Epoch 17/30\n",
            "19/19 [==============================] - 106s 6s/step - loss: 2.3636 - accuracy: 0.2133 - val_loss: 2.8209 - val_accuracy: 0.1975\n",
            "Epoch 18/30\n",
            "19/19 [==============================] - 128s 7s/step - loss: 2.3300 - accuracy: 0.2200 - val_loss: 2.7993 - val_accuracy: 0.1975\n",
            "Epoch 19/30\n",
            "19/19 [==============================] - 129s 7s/step - loss: 2.2855 - accuracy: 0.2733 - val_loss: 2.8103 - val_accuracy: 0.2166\n",
            "Epoch 20/30\n",
            "19/19 [==============================] - 129s 7s/step - loss: 2.2948 - accuracy: 0.2733 - val_loss: 2.8215 - val_accuracy: 0.1529\n",
            "Epoch 21/30\n",
            "19/19 [==============================] - 107s 6s/step - loss: 2.2981 - accuracy: 0.2533 - val_loss: 2.7884 - val_accuracy: 0.2420\n",
            "Epoch 22/30\n",
            "19/19 [==============================] - 128s 7s/step - loss: 2.2654 - accuracy: 0.3067 - val_loss: 2.8033 - val_accuracy: 0.2357\n",
            "Epoch 23/30\n",
            "19/19 [==============================] - 129s 7s/step - loss: 2.1661 - accuracy: 0.3333 - val_loss: 2.8701 - val_accuracy: 0.1847\n",
            "Epoch 24/30\n",
            "19/19 [==============================] - 129s 7s/step - loss: 2.1405 - accuracy: 0.3467 - val_loss: 2.9346 - val_accuracy: 0.1656\n",
            "Epoch 25/30\n",
            "19/19 [==============================] - 129s 7s/step - loss: 2.0468 - accuracy: 0.3800 - val_loss: 2.8423 - val_accuracy: 0.1847\n",
            "Epoch 26/30\n",
            "19/19 [==============================] - 128s 7s/step - loss: 1.9766 - accuracy: 0.3933 - val_loss: 3.0142 - val_accuracy: 0.1911\n",
            "Epoch 27/30\n",
            "19/19 [==============================] - 128s 7s/step - loss: 1.9111 - accuracy: 0.4067 - val_loss: 2.7997 - val_accuracy: 0.2675\n",
            "Epoch 28/30\n",
            "19/19 [==============================] - 128s 7s/step - loss: 1.8615 - accuracy: 0.4133 - val_loss: 2.8065 - val_accuracy: 0.2166\n",
            "Epoch 29/30\n",
            "19/19 [==============================] - 129s 7s/step - loss: 1.8490 - accuracy: 0.4000 - val_loss: 2.7385 - val_accuracy: 0.2484\n",
            "Epoch 30/30\n",
            "19/19 [==============================] - 108s 6s/step - loss: 1.7897 - accuracy: 0.4333 - val_loss: 2.7963 - val_accuracy: 0.1783\n"
          ]
        },
        {
          "output_type": "execute_result",
          "data": {
            "text/plain": [
              "<keras.callbacks.History at 0x7fd33c27e6b0>"
            ]
          },
          "metadata": {},
          "execution_count": 16
        }
      ]
    },
    {
      "cell_type": "code",
      "source": [
        "#Testing Phase\n",
        "\n",
        "import numpy as np\n",
        "from tensorflow.keras.preprocessing import image"
      ],
      "metadata": {
        "id": "LUoaJPFA-srP"
      },
      "execution_count": 17,
      "outputs": []
    },
    {
      "cell_type": "code",
      "source": [
        "#testing with class himbul\n",
        "\n",
        "img1=image.load_img('/content/test_data/test_data/himbul/D72_0688.jpg', target_size=(120, 120)) \n",
        "img1=image.img_to_array(img1)\n",
        "img1=np.expand_dims(img1, axis=0) \n",
        "pred1=np.argmax(model.predict(img1))\n",
        "print(pred1)\n",
        "\n",
        "#list\n",
        "output=['blasti',\n",
        " 'bonegl',\n",
        " 'brhkyt',\n",
        " 'cbrtsh',\n",
        " 'cmnmyn',\n",
        " 'gretit',\n",
        " 'hilpig',\n",
        " 'himbul',\n",
        " 'himgri',\n",
        " 'hsparo',\n",
        " 'indvul',\n",
        " 'jglowl',\n",
        " 'lbicrw',\n",
        " 'mgprob',\n",
        " 'rebimg',\n",
        " 'wcrsrt']\n",
        "#list indexing\n",
        "print(output[pred1])"
      ],
      "metadata": {
        "colab": {
          "base_uri": "https://localhost:8080/"
        },
        "id": "4rfUEOty-2vh",
        "outputId": "68beba87-70f9-446d-9c86-d25e90dbd244"
      },
      "execution_count": 18,
      "outputs": [
        {
          "output_type": "stream",
          "name": "stdout",
          "text": [
            "1/1 [==============================] - 0s 246ms/step\n",
            "7\n",
            "himbul\n"
          ]
        }
      ]
    },
    {
      "cell_type": "code",
      "source": [
        "# Training the model\n",
        "\n",
        "model=Sequential()\n",
        "\n",
        "model.add(Convolution2D(12, (3, 3), activation='relu', input_shape=(120, 120, 3))) \n",
        "\n",
        "model.add(MaxPooling2D(pool_size=(2, 2))) \n",
        "\n",
        "model.add(Convolution2D(24, (3, 3), activation='relu'))\n",
        "model.add(MaxPooling2D(pool_size=(2, 2)))\n",
        "model.add(Convolution2D(36, (3, 3), activation='relu'))\n",
        "model.add(MaxPooling2D(pool_size=(2, 2)))\n",
        "\n",
        "model.add(Flatten())\n",
        "\n",
        "model.add(Dense(62, activation='relu')) \n",
        "model.add(Dense(32, activation='relu')) \n",
        "model.add(Dense(16, activation='relu')) \n",
        "model.add(Dense(16, activation='softmax'))"
      ],
      "metadata": {
        "id": "T_-5PKrK-55F"
      },
      "execution_count": 19,
      "outputs": []
    },
    {
      "cell_type": "code",
      "source": [
        "model.summary()"
      ],
      "metadata": {
        "colab": {
          "base_uri": "https://localhost:8080/"
        },
        "id": "wtgNDHNy-_fs",
        "outputId": "725cb474-3a99-4aae-9c75-c80df7afb5ff"
      },
      "execution_count": 20,
      "outputs": [
        {
          "output_type": "stream",
          "name": "stdout",
          "text": [
            "Model: \"sequential_1\"\n",
            "_________________________________________________________________\n",
            " Layer (type)                Output Shape              Param #   \n",
            "=================================================================\n",
            " conv2d_1 (Conv2D)           (None, 118, 118, 12)      336       \n",
            "                                                                 \n",
            " max_pooling2d_1 (MaxPooling  (None, 59, 59, 12)       0         \n",
            " 2D)                                                             \n",
            "                                                                 \n",
            " conv2d_2 (Conv2D)           (None, 57, 57, 24)        2616      \n",
            "                                                                 \n",
            " max_pooling2d_2 (MaxPooling  (None, 28, 28, 24)       0         \n",
            " 2D)                                                             \n",
            "                                                                 \n",
            " conv2d_3 (Conv2D)           (None, 26, 26, 36)        7812      \n",
            "                                                                 \n",
            " max_pooling2d_3 (MaxPooling  (None, 13, 13, 36)       0         \n",
            " 2D)                                                             \n",
            "                                                                 \n",
            " flatten_1 (Flatten)         (None, 6084)              0         \n",
            "                                                                 \n",
            " dense_2 (Dense)             (None, 62)                377270    \n",
            "                                                                 \n",
            " dense_3 (Dense)             (None, 32)                2016      \n",
            "                                                                 \n",
            " dense_4 (Dense)             (None, 16)                528       \n",
            "                                                                 \n",
            " dense_5 (Dense)             (None, 16)                272       \n",
            "                                                                 \n",
            "=================================================================\n",
            "Total params: 390,850\n",
            "Trainable params: 390,850\n",
            "Non-trainable params: 0\n",
            "_________________________________________________________________\n"
          ]
        }
      ]
    },
    {
      "cell_type": "code",
      "source": [
        "model.compile(optimizer='adam', loss='categorical_crossentropy', metrics=['accuracy'])"
      ],
      "metadata": {
        "id": "OU_o9NyA_BpL"
      },
      "execution_count": 21,
      "outputs": []
    },
    {
      "cell_type": "code",
      "source": [
        "model.fit(train, batch_size=8, validation_data=test, epochs=50)"
      ],
      "metadata": {
        "colab": {
          "base_uri": "https://localhost:8080/"
        },
        "id": "87cmgxNx_Diz",
        "outputId": "5645145c-49b0-4ecb-8e16-203d2c0d4a96"
      },
      "execution_count": 22,
      "outputs": [
        {
          "output_type": "stream",
          "name": "stdout",
          "text": [
            "Epoch 1/50\n",
            "19/19 [==============================] - 112s 6s/step - loss: 2.8004 - accuracy: 0.0400 - val_loss: 2.7474 - val_accuracy: 0.1274\n",
            "Epoch 2/50\n",
            "19/19 [==============================] - 106s 6s/step - loss: 2.7128 - accuracy: 0.1733 - val_loss: 2.7346 - val_accuracy: 0.1019\n",
            "Epoch 3/50\n",
            "19/19 [==============================] - 105s 6s/step - loss: 2.6183 - accuracy: 0.1533 - val_loss: 2.6826 - val_accuracy: 0.1656\n",
            "Epoch 4/50\n",
            "19/19 [==============================] - 129s 7s/step - loss: 2.4588 - accuracy: 0.2133 - val_loss: 2.6798 - val_accuracy: 0.1274\n",
            "Epoch 5/50\n",
            "19/19 [==============================] - 128s 7s/step - loss: 2.4124 - accuracy: 0.1933 - val_loss: 2.8018 - val_accuracy: 0.1783\n",
            "Epoch 6/50\n",
            "19/19 [==============================] - 107s 6s/step - loss: 2.3846 - accuracy: 0.2000 - val_loss: 2.6854 - val_accuracy: 0.1783\n",
            "Epoch 7/50\n",
            "19/19 [==============================] - 128s 7s/step - loss: 2.3407 - accuracy: 0.1933 - val_loss: 2.7602 - val_accuracy: 0.1338\n",
            "Epoch 8/50\n",
            "19/19 [==============================] - 127s 7s/step - loss: 2.3418 - accuracy: 0.2133 - val_loss: 2.6925 - val_accuracy: 0.1210\n",
            "Epoch 9/50\n",
            "19/19 [==============================] - 128s 7s/step - loss: 2.2075 - accuracy: 0.2000 - val_loss: 2.7411 - val_accuracy: 0.1975\n",
            "Epoch 10/50\n",
            "19/19 [==============================] - 127s 7s/step - loss: 2.1040 - accuracy: 0.2733 - val_loss: 2.8962 - val_accuracy: 0.1720\n",
            "Epoch 11/50\n",
            "19/19 [==============================] - 106s 6s/step - loss: 2.1749 - accuracy: 0.2333 - val_loss: 2.7498 - val_accuracy: 0.2038\n",
            "Epoch 12/50\n",
            "19/19 [==============================] - 108s 6s/step - loss: 2.0373 - accuracy: 0.3533 - val_loss: 2.9654 - val_accuracy: 0.1592\n",
            "Epoch 13/50\n",
            "19/19 [==============================] - 128s 7s/step - loss: 2.0423 - accuracy: 0.3400 - val_loss: 2.7983 - val_accuracy: 0.2102\n",
            "Epoch 14/50\n",
            "19/19 [==============================] - 128s 7s/step - loss: 1.8928 - accuracy: 0.3467 - val_loss: 3.0324 - val_accuracy: 0.1911\n",
            "Epoch 15/50\n",
            "19/19 [==============================] - 108s 6s/step - loss: 1.8163 - accuracy: 0.3800 - val_loss: 2.8548 - val_accuracy: 0.2102\n",
            "Epoch 16/50\n",
            "19/19 [==============================] - 128s 7s/step - loss: 1.7144 - accuracy: 0.4267 - val_loss: 2.9747 - val_accuracy: 0.2166\n",
            "Epoch 17/50\n",
            "19/19 [==============================] - 129s 7s/step - loss: 1.7394 - accuracy: 0.3867 - val_loss: 2.8883 - val_accuracy: 0.2548\n",
            "Epoch 18/50\n",
            "19/19 [==============================] - 107s 6s/step - loss: 1.5361 - accuracy: 0.4533 - val_loss: 3.1459 - val_accuracy: 0.2357\n",
            "Epoch 19/50\n",
            "19/19 [==============================] - 105s 6s/step - loss: 1.3566 - accuracy: 0.5467 - val_loss: 3.6484 - val_accuracy: 0.2038\n",
            "Epoch 20/50\n",
            "19/19 [==============================] - 128s 7s/step - loss: 1.2809 - accuracy: 0.5467 - val_loss: 3.6163 - val_accuracy: 0.2611\n",
            "Epoch 21/50\n",
            "19/19 [==============================] - 107s 6s/step - loss: 1.2314 - accuracy: 0.5667 - val_loss: 3.5690 - val_accuracy: 0.2229\n",
            "Epoch 22/50\n",
            "19/19 [==============================] - 129s 7s/step - loss: 1.1510 - accuracy: 0.6200 - val_loss: 3.7696 - val_accuracy: 0.2229\n",
            "Epoch 23/50\n",
            "19/19 [==============================] - 129s 7s/step - loss: 1.2475 - accuracy: 0.5533 - val_loss: 3.4066 - val_accuracy: 0.2293\n",
            "Epoch 24/50\n",
            "19/19 [==============================] - 127s 7s/step - loss: 1.0816 - accuracy: 0.6000 - val_loss: 3.7387 - val_accuracy: 0.2675\n",
            "Epoch 25/50\n",
            "19/19 [==============================] - 128s 7s/step - loss: 1.0368 - accuracy: 0.7000 - val_loss: 4.0537 - val_accuracy: 0.2293\n",
            "Epoch 26/50\n",
            "19/19 [==============================] - 107s 6s/step - loss: 0.8630 - accuracy: 0.6400 - val_loss: 3.8424 - val_accuracy: 0.2420\n",
            "Epoch 27/50\n",
            "19/19 [==============================] - 130s 7s/step - loss: 0.6329 - accuracy: 0.8200 - val_loss: 4.3635 - val_accuracy: 0.2548\n",
            "Epoch 28/50\n",
            "19/19 [==============================] - 107s 6s/step - loss: 0.5561 - accuracy: 0.8200 - val_loss: 4.8797 - val_accuracy: 0.2038\n",
            "Epoch 29/50\n",
            "19/19 [==============================] - 106s 6s/step - loss: 0.5079 - accuracy: 0.8133 - val_loss: 5.0068 - val_accuracy: 0.2803\n",
            "Epoch 30/50\n",
            "19/19 [==============================] - 129s 7s/step - loss: 0.7776 - accuracy: 0.7333 - val_loss: 4.8714 - val_accuracy: 0.2229\n",
            "Epoch 31/50\n",
            "19/19 [==============================] - 130s 7s/step - loss: 0.5190 - accuracy: 0.8533 - val_loss: 4.7964 - val_accuracy: 0.2994\n",
            "Epoch 32/50\n",
            "19/19 [==============================] - 128s 7s/step - loss: 0.3346 - accuracy: 0.9333 - val_loss: 5.7831 - val_accuracy: 0.2548\n",
            "Epoch 33/50\n",
            "19/19 [==============================] - 128s 7s/step - loss: 0.3631 - accuracy: 0.9067 - val_loss: 6.3284 - val_accuracy: 0.2866\n",
            "Epoch 34/50\n",
            "19/19 [==============================] - 127s 7s/step - loss: 0.3311 - accuracy: 0.9067 - val_loss: 5.8439 - val_accuracy: 0.2930\n",
            "Epoch 35/50\n",
            "19/19 [==============================] - 129s 7s/step - loss: 0.4561 - accuracy: 0.8333 - val_loss: 5.3705 - val_accuracy: 0.3185\n",
            "Epoch 36/50\n",
            "19/19 [==============================] - 129s 7s/step - loss: 0.3113 - accuracy: 0.9267 - val_loss: 5.7392 - val_accuracy: 0.2803\n",
            "Epoch 37/50\n",
            "19/19 [==============================] - 105s 6s/step - loss: 0.1503 - accuracy: 0.9800 - val_loss: 6.4768 - val_accuracy: 0.2675\n",
            "Epoch 38/50\n",
            "19/19 [==============================] - 128s 7s/step - loss: 0.1156 - accuracy: 0.9800 - val_loss: 6.8612 - val_accuracy: 0.2803\n",
            "Epoch 39/50\n",
            "19/19 [==============================] - 129s 7s/step - loss: 0.1214 - accuracy: 0.9733 - val_loss: 7.4429 - val_accuracy: 0.2930\n",
            "Epoch 40/50\n",
            "19/19 [==============================] - 128s 7s/step - loss: 0.1110 - accuracy: 0.9667 - val_loss: 7.5785 - val_accuracy: 0.2675\n",
            "Epoch 41/50\n",
            "19/19 [==============================] - 129s 7s/step - loss: 0.0805 - accuracy: 0.9933 - val_loss: 7.4331 - val_accuracy: 0.2994\n",
            "Epoch 42/50\n",
            "19/19 [==============================] - 105s 6s/step - loss: 0.0504 - accuracy: 1.0000 - val_loss: 7.5598 - val_accuracy: 0.2930\n",
            "Epoch 43/50\n",
            "19/19 [==============================] - 128s 7s/step - loss: 0.0346 - accuracy: 1.0000 - val_loss: 8.0730 - val_accuracy: 0.2930\n",
            "Epoch 44/50\n",
            "19/19 [==============================] - 128s 7s/step - loss: 0.0282 - accuracy: 0.9933 - val_loss: 8.4262 - val_accuracy: 0.2930\n",
            "Epoch 45/50\n",
            "19/19 [==============================] - 128s 7s/step - loss: 0.0184 - accuracy: 1.0000 - val_loss: 8.7085 - val_accuracy: 0.2866\n",
            "Epoch 46/50\n",
            "19/19 [==============================] - 129s 7s/step - loss: 0.0129 - accuracy: 1.0000 - val_loss: 8.9012 - val_accuracy: 0.2866\n",
            "Epoch 47/50\n",
            "19/19 [==============================] - 129s 7s/step - loss: 0.0109 - accuracy: 1.0000 - val_loss: 9.1853 - val_accuracy: 0.2994\n",
            "Epoch 48/50\n",
            "19/19 [==============================] - 127s 7s/step - loss: 0.0069 - accuracy: 1.0000 - val_loss: 9.3086 - val_accuracy: 0.2803\n",
            "Epoch 49/50\n",
            "19/19 [==============================] - 127s 7s/step - loss: 0.0088 - accuracy: 1.0000 - val_loss: 9.4236 - val_accuracy: 0.2803\n",
            "Epoch 50/50\n",
            "19/19 [==============================] - 127s 7s/step - loss: 0.0080 - accuracy: 1.0000 - val_loss: 9.6072 - val_accuracy: 0.2803\n"
          ]
        },
        {
          "output_type": "execute_result",
          "data": {
            "text/plain": [
              "<keras.callbacks.History at 0x7fd32d516f50>"
            ]
          },
          "metadata": {},
          "execution_count": 22
        }
      ]
    }
  ]
}