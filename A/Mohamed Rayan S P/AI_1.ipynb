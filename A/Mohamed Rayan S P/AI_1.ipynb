{
  "nbformat": 4,
  "nbformat_minor": 0,
  "metadata": {
    "colab": {
      "provenance": []
    },
    "kernelspec": {
      "name": "python3",
      "display_name": "Python 3"
    },
    "language_info": {
      "name": "python"
    }
  },
  "cells": [
    {
      "cell_type": "markdown",
      "source": [
        "SmartBridge Artificial Intelligence Assignment-1"
      ],
      "metadata": {
        "id": "8vYSHaMe6GRO"
      }
    },
    {
      "cell_type": "markdown",
      "source": [
        "TASK 1 and TASK 2"
      ],
      "metadata": {
        "id": "GeuPnAmG6HC2"
      }
    },
    {
      "cell_type": "code",
      "execution_count": 1,
      "metadata": {
        "colab": {
          "base_uri": "https://localhost:8080/"
        },
        "id": "r0pOxgxd1iW8",
        "outputId": "168d2163-b180-4048-e0af-eef0c4e409fc"
      },
      "outputs": [
        {
          "output_type": "stream",
          "name": "stdout",
          "text": [
            "   Random value 1  Random value 2  Random value 3  Random value 4\n",
            "0        1.024889       -1.428502       -0.034438       -1.276055\n",
            "1        0.506806        0.433234       -1.040387        1.173846\n",
            "2       -1.390372       -0.507066       -1.332723       -1.117362\n",
            "3       -0.409671        0.801312        0.355463        0.744762\n"
          ]
        }
      ],
      "source": [
        "import numpy as np\n",
        "import pandas as pd\n",
        "\n",
        "data= np.random.randn(4,4)\n",
        "df=pd.DataFrame(data,columns=['Random value 1','Random value 2','Random value 3','Random value 4'])\n",
        "print(df)"
      ]
    },
    {
      "cell_type": "markdown",
      "source": [
        "TASK 3"
      ],
      "metadata": {
        "id": "HRMLu6Ri6VBr"
      }
    },
    {
      "cell_type": "code",
      "source": [
        "df.describe()"
      ],
      "metadata": {
        "colab": {
          "base_uri": "https://localhost:8080/",
          "height": 300
        },
        "id": "ciU2rZMR35pb",
        "outputId": "ae869e83-6534-4e84-9f97-bf7bc21ee255"
      },
      "execution_count": 3,
      "outputs": [
        {
          "output_type": "execute_result",
          "data": {
            "text/plain": [
              "       Random value 1  Random value 2  Random value 3  Random value 4\n",
              "count        4.000000        4.000000        4.000000        4.000000\n",
              "mean        -0.067087       -0.175255       -0.513021       -0.118702\n",
              "std          1.063048        1.000778        0.802773        1.258708\n",
              "min         -1.390372       -1.428502       -1.332723       -1.276055\n",
              "25%         -0.654846       -0.737425       -1.113471       -1.157036\n",
              "50%          0.048568       -0.036916       -0.537413       -0.186300\n",
              "75%          0.636327        0.525253        0.063037        0.852033\n",
              "max          1.024889        0.801312        0.355463        1.173846"
            ],
            "text/html": [
              "\n",
              "  <div id=\"df-4127f30c-7b37-4796-a4f3-0ecd71af5c0a\">\n",
              "    <div class=\"colab-df-container\">\n",
              "      <div>\n",
              "<style scoped>\n",
              "    .dataframe tbody tr th:only-of-type {\n",
              "        vertical-align: middle;\n",
              "    }\n",
              "\n",
              "    .dataframe tbody tr th {\n",
              "        vertical-align: top;\n",
              "    }\n",
              "\n",
              "    .dataframe thead th {\n",
              "        text-align: right;\n",
              "    }\n",
              "</style>\n",
              "<table border=\"1\" class=\"dataframe\">\n",
              "  <thead>\n",
              "    <tr style=\"text-align: right;\">\n",
              "      <th></th>\n",
              "      <th>Random value 1</th>\n",
              "      <th>Random value 2</th>\n",
              "      <th>Random value 3</th>\n",
              "      <th>Random value 4</th>\n",
              "    </tr>\n",
              "  </thead>\n",
              "  <tbody>\n",
              "    <tr>\n",
              "      <th>count</th>\n",
              "      <td>4.000000</td>\n",
              "      <td>4.000000</td>\n",
              "      <td>4.000000</td>\n",
              "      <td>4.000000</td>\n",
              "    </tr>\n",
              "    <tr>\n",
              "      <th>mean</th>\n",
              "      <td>-0.067087</td>\n",
              "      <td>-0.175255</td>\n",
              "      <td>-0.513021</td>\n",
              "      <td>-0.118702</td>\n",
              "    </tr>\n",
              "    <tr>\n",
              "      <th>std</th>\n",
              "      <td>1.063048</td>\n",
              "      <td>1.000778</td>\n",
              "      <td>0.802773</td>\n",
              "      <td>1.258708</td>\n",
              "    </tr>\n",
              "    <tr>\n",
              "      <th>min</th>\n",
              "      <td>-1.390372</td>\n",
              "      <td>-1.428502</td>\n",
              "      <td>-1.332723</td>\n",
              "      <td>-1.276055</td>\n",
              "    </tr>\n",
              "    <tr>\n",
              "      <th>25%</th>\n",
              "      <td>-0.654846</td>\n",
              "      <td>-0.737425</td>\n",
              "      <td>-1.113471</td>\n",
              "      <td>-1.157036</td>\n",
              "    </tr>\n",
              "    <tr>\n",
              "      <th>50%</th>\n",
              "      <td>0.048568</td>\n",
              "      <td>-0.036916</td>\n",
              "      <td>-0.537413</td>\n",
              "      <td>-0.186300</td>\n",
              "    </tr>\n",
              "    <tr>\n",
              "      <th>75%</th>\n",
              "      <td>0.636327</td>\n",
              "      <td>0.525253</td>\n",
              "      <td>0.063037</td>\n",
              "      <td>0.852033</td>\n",
              "    </tr>\n",
              "    <tr>\n",
              "      <th>max</th>\n",
              "      <td>1.024889</td>\n",
              "      <td>0.801312</td>\n",
              "      <td>0.355463</td>\n",
              "      <td>1.173846</td>\n",
              "    </tr>\n",
              "  </tbody>\n",
              "</table>\n",
              "</div>\n",
              "      <button class=\"colab-df-convert\" onclick=\"convertToInteractive('df-4127f30c-7b37-4796-a4f3-0ecd71af5c0a')\"\n",
              "              title=\"Convert this dataframe to an interactive table.\"\n",
              "              style=\"display:none;\">\n",
              "        \n",
              "  <svg xmlns=\"http://www.w3.org/2000/svg\" height=\"24px\"viewBox=\"0 0 24 24\"\n",
              "       width=\"24px\">\n",
              "    <path d=\"M0 0h24v24H0V0z\" fill=\"none\"/>\n",
              "    <path d=\"M18.56 5.44l.94 2.06.94-2.06 2.06-.94-2.06-.94-.94-2.06-.94 2.06-2.06.94zm-11 1L8.5 8.5l.94-2.06 2.06-.94-2.06-.94L8.5 2.5l-.94 2.06-2.06.94zm10 10l.94 2.06.94-2.06 2.06-.94-2.06-.94-.94-2.06-.94 2.06-2.06.94z\"/><path d=\"M17.41 7.96l-1.37-1.37c-.4-.4-.92-.59-1.43-.59-.52 0-1.04.2-1.43.59L10.3 9.45l-7.72 7.72c-.78.78-.78 2.05 0 2.83L4 21.41c.39.39.9.59 1.41.59.51 0 1.02-.2 1.41-.59l7.78-7.78 2.81-2.81c.8-.78.8-2.07 0-2.86zM5.41 20L4 18.59l7.72-7.72 1.47 1.35L5.41 20z\"/>\n",
              "  </svg>\n",
              "      </button>\n",
              "      \n",
              "  <style>\n",
              "    .colab-df-container {\n",
              "      display:flex;\n",
              "      flex-wrap:wrap;\n",
              "      gap: 12px;\n",
              "    }\n",
              "\n",
              "    .colab-df-convert {\n",
              "      background-color: #E8F0FE;\n",
              "      border: none;\n",
              "      border-radius: 50%;\n",
              "      cursor: pointer;\n",
              "      display: none;\n",
              "      fill: #1967D2;\n",
              "      height: 32px;\n",
              "      padding: 0 0 0 0;\n",
              "      width: 32px;\n",
              "    }\n",
              "\n",
              "    .colab-df-convert:hover {\n",
              "      background-color: #E2EBFA;\n",
              "      box-shadow: 0px 1px 2px rgba(60, 64, 67, 0.3), 0px 1px 3px 1px rgba(60, 64, 67, 0.15);\n",
              "      fill: #174EA6;\n",
              "    }\n",
              "\n",
              "    [theme=dark] .colab-df-convert {\n",
              "      background-color: #3B4455;\n",
              "      fill: #D2E3FC;\n",
              "    }\n",
              "\n",
              "    [theme=dark] .colab-df-convert:hover {\n",
              "      background-color: #434B5C;\n",
              "      box-shadow: 0px 1px 3px 1px rgba(0, 0, 0, 0.15);\n",
              "      filter: drop-shadow(0px 1px 2px rgba(0, 0, 0, 0.3));\n",
              "      fill: #FFFFFF;\n",
              "    }\n",
              "  </style>\n",
              "\n",
              "      <script>\n",
              "        const buttonEl =\n",
              "          document.querySelector('#df-4127f30c-7b37-4796-a4f3-0ecd71af5c0a button.colab-df-convert');\n",
              "        buttonEl.style.display =\n",
              "          google.colab.kernel.accessAllowed ? 'block' : 'none';\n",
              "\n",
              "        async function convertToInteractive(key) {\n",
              "          const element = document.querySelector('#df-4127f30c-7b37-4796-a4f3-0ecd71af5c0a');\n",
              "          const dataTable =\n",
              "            await google.colab.kernel.invokeFunction('convertToInteractive',\n",
              "                                                     [key], {});\n",
              "          if (!dataTable) return;\n",
              "\n",
              "          const docLinkHtml = 'Like what you see? Visit the ' +\n",
              "            '<a target=\"_blank\" href=https://colab.research.google.com/notebooks/data_table.ipynb>data table notebook</a>'\n",
              "            + ' to learn more about interactive tables.';\n",
              "          element.innerHTML = '';\n",
              "          dataTable['output_type'] = 'display_data';\n",
              "          await google.colab.output.renderOutput(dataTable, element);\n",
              "          const docLink = document.createElement('div');\n",
              "          docLink.innerHTML = docLinkHtml;\n",
              "          element.appendChild(docLink);\n",
              "        }\n",
              "      </script>\n",
              "    </div>\n",
              "  </div>\n",
              "  "
            ]
          },
          "metadata": {},
          "execution_count": 3
        }
      ]
    },
    {
      "cell_type": "markdown",
      "source": [
        "TASK 4"
      ],
      "metadata": {
        "id": "HyVcmKFk6e53"
      }
    },
    {
      "cell_type": "code",
      "source": [
        "#check for datatypes\n",
        "df.dtypes"
      ],
      "metadata": {
        "colab": {
          "base_uri": "https://localhost:8080/"
        },
        "id": "PwTh21DE4IyX",
        "outputId": "b9d241e9-4e1f-4d19-97e5-7de3fa69341e"
      },
      "execution_count": 4,
      "outputs": [
        {
          "output_type": "execute_result",
          "data": {
            "text/plain": [
              "Random value 1    float64\n",
              "Random value 2    float64\n",
              "Random value 3    float64\n",
              "Random value 4    float64\n",
              "dtype: object"
            ]
          },
          "metadata": {},
          "execution_count": 4
        }
      ]
    },
    {
      "cell_type": "code",
      "source": [
        "#check for null values\n",
        "print(df.isnull().sum())"
      ],
      "metadata": {
        "colab": {
          "base_uri": "https://localhost:8080/"
        },
        "id": "xDi3wqNu4SLs",
        "outputId": "b1866f1c-1c22-429a-8c07-e513b9fce862"
      },
      "execution_count": 9,
      "outputs": [
        {
          "output_type": "stream",
          "name": "stdout",
          "text": [
            "Random value 1    0\n",
            "Random value 2    0\n",
            "Random value 3    0\n",
            "Random value 4    0\n",
            "dtype: int64\n"
          ]
        }
      ]
    },
    {
      "cell_type": "markdown",
      "source": [
        "TASK 5"
      ],
      "metadata": {
        "id": "M3sBsv5e6hpO"
      }
    },
    {
      "cell_type": "code",
      "source": [
        "#index location method\n",
        "print(df.iloc[:,1:3])"
      ],
      "metadata": {
        "colab": {
          "base_uri": "https://localhost:8080/"
        },
        "id": "-en49_OK4SVu",
        "outputId": "9222315a-8fea-4e36-d76e-260ace57f463"
      },
      "execution_count": 10,
      "outputs": [
        {
          "output_type": "stream",
          "name": "stdout",
          "text": [
            "   Random value 2  Random value 3\n",
            "0       -1.428502       -0.034438\n",
            "1        0.433234       -1.040387\n",
            "2       -0.507066       -1.332723\n",
            "3        0.801312        0.355463\n"
          ]
        }
      ]
    },
    {
      "cell_type": "code",
      "source": [
        "#location method\n",
        "indices=[i for i in range(0,len(df))]\n",
        "cols=['Random value 2','Random value 3']\n",
        "print(df.loc[indices,cols])"
      ],
      "metadata": {
        "colab": {
          "base_uri": "https://localhost:8080/"
        },
        "id": "MHmshAaz4SZQ",
        "outputId": "96739801-61c4-407a-93c8-215a2aa72a0c"
      },
      "execution_count": 11,
      "outputs": [
        {
          "output_type": "stream",
          "name": "stdout",
          "text": [
            "   Random value 2  Random value 3\n",
            "0       -1.428502       -0.034438\n",
            "1        0.433234       -1.040387\n",
            "2       -0.507066       -1.332723\n",
            "3        0.801312        0.355463\n"
          ]
        }
      ]
    },
    {
      "cell_type": "markdown",
      "source": [],
      "metadata": {
        "id": "ZPbxLv8t55pN"
      }
    }
  ]
}